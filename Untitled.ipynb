{
 "cells": [
  {
   "cell_type": "code",
   "execution_count": 29,
   "metadata": {},
   "outputs": [
    {
     "name": "stdout",
     "output_type": "stream",
     "text": [
      "The autoreload extension is already loaded. To reload it, use:\n",
      "  %reload_ext autoreload\n"
     ]
    }
   ],
   "source": [
    "import matriz_final\n",
    "from sklearn.preprocessing import StandardScaler\n",
    "from sklearn.model_selection import train_test_split\n",
    "from sklearn.svm import SVC\n",
    "import time\n",
    "from sklearn.model_selection import GridSearchCV\n",
    "\n",
    "%load_ext autoreload\n",
    "%autoreload 2"
   ]
  },
  {
   "cell_type": "code",
   "execution_count": 30,
   "metadata": {},
   "outputs": [
    {
     "name": "stdout",
     "output_type": "stream",
     "text": [
      "llegaste aquí 21\n",
      "llegaste aquí 21\n",
      "llegaste aquí 21\n"
     ]
    }
   ],
   "source": [
    "full_data = matriz_final.matriz_features()\n",
    "X = full_data[:,:-1]\n",
    "y = full_data[:,-1]"
   ]
  },
  {
   "cell_type": "code",
   "execution_count": 31,
   "metadata": {},
   "outputs": [
    {
     "data": {
      "text/plain": [
       "((60000, 26), (60000,))"
      ]
     },
     "execution_count": 31,
     "metadata": {},
     "output_type": "execute_result"
    }
   ],
   "source": [
    "X.shape,y.shape"
   ]
  },
  {
   "cell_type": "code",
   "execution_count": 32,
   "metadata": {},
   "outputs": [],
   "source": [
    "X_train, X_test, y_train, y_test = train_test_split(X, y, test_size=0.1)"
   ]
  },
  {
   "cell_type": "code",
   "execution_count": 33,
   "metadata": {},
   "outputs": [
    {
     "data": {
      "text/plain": [
       "((54000, 26), (6000, 26), (54000,), (6000,))"
      ]
     },
     "execution_count": 33,
     "metadata": {},
     "output_type": "execute_result"
    }
   ],
   "source": [
    "X_train.shape, X_test.shape, y_train.shape, y_test.shape"
   ]
  },
  {
   "cell_type": "code",
   "execution_count": 34,
   "metadata": {},
   "outputs": [],
   "source": [
    "scaler = StandardScaler()\n",
    "X_train_scaled = scaler.fit_transform(X_train)\n",
    "X_test_scaled = scaler.transform(X_test)"
   ]
  },
  {
   "cell_type": "code",
   "execution_count": 35,
   "metadata": {},
   "outputs": [],
   "source": [
    "def grid(n_proc, X_train, y_train, X_test, y_test, models, score='accuracy', cv=2, refit=True):\n",
    "    \n",
    "    for name, value in models.items():\n",
    "        print('*********** Model: {} ***********'.format(name))\n",
    "\n",
    "        estimator = value['model']\n",
    "        tuned_parameters = value['parameters']\n",
    "        \n",
    "        clf = GridSearchCV(estimator, tuned_parameters, scoring=score, cv=cv, n_jobs=n_proc, verbose=2, refit=refit)\n",
    "\n",
    "        t_beg = time.time()\n",
    "        clf.fit(X_train, y_train)\n",
    "        selection_time = time.time() - t_beg\n",
    "\n",
    "        print('El tiempo de selección fue: {:0.3f}'.format(selection_time))\n",
    "        print(\"Los mejores parámetros son:\")\n",
    "        print(clf.best_params_)\n",
    "\n",
    "        bestmodels[name] = dict()\n",
    "        bestmodels[name]['bestModel'] = clf.best_estimator_\n",
    "        bestmodels[name]['bestParams'] = clf.best_params_\n",
    "        bestmodels[name]['bestScore'] = clf.best_score_\n",
    "        bestmodels[name]['selectionTime'] = selection_time\n",
    "\n",
    "        for metric in score:\n",
    "            mean_name = 'mean_test_{}'.format(metric)\n",
    "            std_name = 'std_test_{}'.format(metric)\n",
    "\n",
    "            idx_mean_metric = np.argmax(clf.cv_results_[mean_name])\n",
    "            idx_std_metric = np.argmax(clf.cv_results_[std_name])\n",
    "\n",
    "            mean = clf.cv_results_[mean_name][idx_mean_metric]\n",
    "            std = clf.cv_results_[std_name][idx_std_metric]\n",
    "\n",
    "            bestmodels[name]['mean_{}'.format(metric)] = mean\n",
    "            bestmodels[name]['std_{}'.format(metric)] = std\n",
    "\n",
    "    print('*********** BEST MODELS: ***********')\n",
    "    print(bestmodels)\n",
    "\n",
    "    model_name = None\n",
    "    best_metric = -np.inf\n",
    "    for name, value in bestmodels.items():\n",
    "        metric_value = value['mean_{}'.format(refit)]\n",
    "        if metric_value > best_metric:\n",
    "            model_name = name\n",
    "            best_metric = metric_value\n",
    "\n",
    "    print('Best Model: {} with a True Possitive Rate of: {} +- {}'\n",
    "          .format(model_name,\n",
    "                  bestmodels[model_name]['mean_{}'.format(refit)],\n",
    "                  bestmodels[model_name]['std_{}'.format(refit)]))\n",
    "\n",
    "    print('*****************************************************************************************************')\n",
    "    y_true, y_pred = y_test, bestmodels[model_name]['bestModel'].predict(X_test)\n",
    "    print(classification_report(y_true, y_pred))\n",
    "\n",
    "    return bestmodels"
   ]
  },
  {
   "cell_type": "code",
   "execution_count": null,
   "metadata": {},
   "outputs": [
    {
     "name": "stdout",
     "output_type": "stream",
     "text": [
      "*********** Model: SVM ***********\n",
      "Fitting 2 folds for each of 72 candidates, totalling 144 fits\n"
     ]
    },
    {
     "name": "stderr",
     "output_type": "stream",
     "text": [
      "[Parallel(n_jobs=-1)]: Using backend LokyBackend with 4 concurrent workers.\n"
     ]
    }
   ],
   "source": [
    "models = {\n",
    "    'SVM': {\n",
    "        'model':SVC(),\n",
    "        'parameters':[\n",
    "            {'C': [0.001,0.01,0.1,1,10,100], 'kernel': ['linear'], 'decision_function_shape':['ovo','ovr']},\n",
    "            {'C': [0.001,0.01,0.1,1,10,100], 'gamma': [0.0001, 0.001,0.01,0.1,1], 'kernel': ['rbf'], 'decision_function_shape':['ovo','ovr']}\n",
    "        ]\n",
    "    }\n",
    "}\n",
    "\n",
    "scoring = {'Accuracy': 'accuracy',\n",
    "           'Precision': 'precision_macro',\n",
    "           'Recall': 'recall_macro',\n",
    "           'F1': 'f1_macro'}\n",
    "\n",
    "refit = 'Recall'\n",
    "\n",
    "grid(-1,X_train_scaled,y_train,X_test_scaled,y_test,models,cv=10,score=scoring,refit=refit)"
   ]
  },
  {
   "cell_type": "code",
   "execution_count": null,
   "metadata": {},
   "outputs": [],
   "source": []
  }
 ],
 "metadata": {
  "kernelspec": {
   "display_name": "Python 3.7 (tensorflow)",
   "language": "python",
   "name": "tensorflow"
  },
  "language_info": {
   "codemirror_mode": {
    "name": "ipython",
    "version": 3
   },
   "file_extension": ".py",
   "mimetype": "text/x-python",
   "name": "python",
   "nbconvert_exporter": "python",
   "pygments_lexer": "ipython3",
   "version": "3.7.7"
  }
 },
 "nbformat": 4,
 "nbformat_minor": 4
}
