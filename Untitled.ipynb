{
 "cells": [
  {
   "cell_type": "code",
   "execution_count": 14,
   "metadata": {},
   "outputs": [],
   "source": [
    "import extract_features\n",
    "from sklearn.preprocessing import StandardScaler\n",
    "from sklearn.model_selection import train_test_split\n",
    "from sklearn.svm import SVC\n",
    "import time\n",
    "from sklearn.model_selection import GridSearchCV\n",
    "from sklearn.neural_network import MLPClassifier\n",
    "from sklearn.metrics import classification_report\n",
    "import numpy as np\n",
    "\n",
    "import matplotlib.pyplot as plt\n",
    "\n",
    "from sklearn.metrics import confusion_matrix\n",
    "\n",
    "%matplotlib inline"
   ]
  },
  {
   "cell_type": "code",
   "execution_count": 15,
   "metadata": {},
   "outputs": [],
   "source": [
    "def plot_confusion_matrix(cm, n_classes,display_labels):\n",
    "    \n",
    "    fig, ax = plt.subplots(figsize=(10,10))\n",
    "    cm = cm\n",
    "    n_classes = n_classes\n",
    "    \n",
    "    im_ = ax.imshow(cm, interpolation='nearest', cmap='viridis')\n",
    "    cmap_min, cmap_max = im_.cmap(0), im_.cmap(256)\n",
    "    \n",
    "    text_ = np.empty_like(cm, dtype=object)\n",
    "    values_format = '.2g'\n",
    "\n",
    "    # print text with appropriate color depending on background\n",
    "    thresh = (cm.max() - cm.min()) / 2.\n",
    "    for i, j in product(range(n_classes), range(n_classes)):\n",
    "        color = cmap_max if cm[i, j] < thresh else cmap_min\n",
    "        text_[i, j] = ax.text(j, i,format(cm[i, j], values_format),\n",
    "                                   ha=\"center\", va=\"center\",\n",
    "                                   color=color)\n",
    "        \n",
    "    fig.colorbar(im_, ax=ax)\n",
    "    ax.set(xticks=np.arange(n_classes),\n",
    "           yticks=np.arange(n_classes),\n",
    "           xticklabels=display_labels,\n",
    "           yticklabels=display_labels,\n",
    "           ylabel=\"True label\",\n",
    "           xlabel=\"Predicted label\")\n",
    "\n",
    "    ax.set_ylim((n_classes - 0.5, -0.5))\n",
    "    plt.setp(ax.get_xticklabels(), rotation='vertical')\n",
    "\n",
    "    figure_ = fig\n",
    "    ax_ = ax"
   ]
  },
  {
   "cell_type": "code",
   "execution_count": 16,
   "metadata": {},
   "outputs": [],
   "source": [
    "def grid_search(X_train, y_train, models, score, cv, refit):\n",
    "    \n",
    "    bestmodels = dict()\n",
    "    for name, value in models.items():\n",
    "        \n",
    "        print('*********** Model: {} ***********'.format(name))\n",
    "\n",
    "        estimator = value['model']\n",
    "        tuned_parameters = value['parameters']\n",
    "        \n",
    "        clf = GridSearchCV(estimator, tuned_parameters, scoring=score, cv=cv, n_jobs=-1,refit=refit)\n",
    "\n",
    "        t_beg = time.time()\n",
    "        clf.fit(X_train_scaled, y_train)\n",
    "        selection_time = time.time() - t_beg\n",
    "\n",
    "        print('El tiempo de selección fue: {:0.3f}'.format(selection_time))\n",
    "        print(\"Los mejores parámetros son:\")\n",
    "        print(clf.best_params_)\n",
    "\n",
    "        bestmodels[name] = dict()\n",
    "        bestmodels[name]['bestModel'] = clf.best_estimator_\n",
    "        bestmodels[name]['bestParams'] = clf.best_params_\n",
    "        bestmodels[name]['bestScore'] = clf.best_score_\n",
    "        bestmodels[name]['selectionTime'] = selection_time\n",
    "\n",
    "        for metric in score:\n",
    "            mean_name = 'mean_test_{}'.format(metric)\n",
    "            std_name = 'std_test_{}'.format(metric)\n",
    "\n",
    "            idx_mean_metric = np.argmax(clf.cv_results_[mean_name])\n",
    "            idx_std_metric = np.argmax(clf.cv_results_[std_name])\n",
    "\n",
    "            mean = clf.cv_results_[mean_name][idx_mean_metric]\n",
    "            std = clf.cv_results_[std_name][idx_std_metric]\n",
    "\n",
    "            bestmodels[name]['mean_{}'.format(metric)] = mean\n",
    "            bestmodels[name]['std_{}'.format(metric)] = std\n",
    "\n",
    "    return bestmodels"
   ]
  },
  {
   "cell_type": "code",
   "execution_count": 17,
   "metadata": {},
   "outputs": [],
   "source": [
    "full_data = extract_features.matriz_features()\n",
    "X = full_data[:,:-1]\n",
    "y = full_data[:,-1]"
   ]
  },
  {
   "cell_type": "code",
   "execution_count": 18,
   "metadata": {},
   "outputs": [],
   "source": [
    "scaler = StandardScaler()\n",
    "X_train, X_test, y_train, y_test = train_test_split(X, y, test_size=0.1)\n",
    "\n",
    "X_train_scaled = scaler.fit_transform(X_train)\n",
    "X_test_scaled = scaler.transform(X_test)"
   ]
  },
  {
   "cell_type": "code",
   "execution_count": null,
   "metadata": {},
   "outputs": [
    {
     "name": "stdout",
     "output_type": "stream",
     "text": [
      "*********** Model: SVM ***********\n"
     ]
    }
   ],
   "source": [
    "\"\"\"\n",
    "models = {\n",
    "    'SVM': {\n",
    "        'model':SVC(),\n",
    "        'parameters':[\n",
    "            {'C': [0.001,0.01,0.1,1,10], 'kernel': ['linear'], 'decision_function_shape':['ovr']},\n",
    "            {'C': [0.001,0.01,0.1,1,10], 'gamma': [0.0001, 0.001,0.01,0.1,1], 'kernel': ['rbf'], 'decision_function_shape':['ovr']}\n",
    "        ]\n",
    "    },\n",
    "    'MLP': {\n",
    "        'model': MLPClassifier(),\n",
    "        'parameters': [\n",
    "            {'hidden_layer_sizes': [(5),(5,10,5),(5,10,20,10,5),(10),(10,20,10),(20)],\n",
    "             'activation': ['tanh','relu','logistic'], 'solver': ['adam'], 'learning_rate': [0.001,0.01]\n",
    "            }\n",
    "        ]\n",
    "    }\n",
    "}\n",
    "\"\"\"\n",
    "\n",
    "models = {\n",
    "    'SVM': {\n",
    "        'model':SVC(),\n",
    "        'parameters':[\n",
    "            {'C': [0.001,0.01], 'kernel': ['linear'], 'decision_function_shape':['ovr']},\n",
    "            {'C': [0.001,0.01], 'gamma': [0.001,0.01], 'kernel': ['rbf'], 'decision_function_shape':['ovr']}\n",
    "        ]\n",
    "    },\n",
    "    'MLP': {\n",
    "        'model': MLPClassifier(),\n",
    "        'parameters': [\n",
    "            {'hidden_layer_sizes': [(5),(5,10,5),(5,10,20,10,5)],\n",
    "             'activation': ['relu'], 'solver': ['adam'], 'learning_rate': [0.001]\n",
    "            }\n",
    "        ]\n",
    "    }\n",
    "}\n",
    "\n",
    "scoring = {'Accuracy': 'accuracy',\n",
    "           'Precision': 'precision_macro',\n",
    "           'Recall': 'recall_macro',\n",
    "           'F1': 'f1_macro'}\n",
    "\n",
    "refit = 'Recall'\n",
    "\n",
    "bestmodels = grid_search(X_train_scaled,y_train,models,cv=10,score=scoring,refit=refit)"
   ]
  },
  {
   "cell_type": "code",
   "execution_count": null,
   "metadata": {},
   "outputs": [],
   "source": [
    "bestmodels"
   ]
  },
  {
   "cell_type": "code",
   "execution_count": null,
   "metadata": {},
   "outputs": [],
   "source": [
    "for name, value in bestmodels.items():\n",
    "    print('***************{}***************'.format(name))\n",
    "    y_true, y_pred = y_test, value['bestModel'].predict(X_test_scaled)\n",
    "    print(classification_report(y_true, y_pred))\n",
    "    ####AQUI EL PLOT####\n",
    "    cm = confusion_matrix(y_true, y_pred, labels=['fat','fit','half'])\n",
    "    plot_confusion_matrix(cm, num_classes,['fat','fit','half'])\n",
    "    ####HASTA AQUI EL PLOT####"
   ]
  },
  {
   "cell_type": "code",
   "execution_count": null,
   "metadata": {},
   "outputs": [],
   "source": []
  }
 ],
 "metadata": {
  "kernelspec": {
   "display_name": "Python 3.7 (tensorflow)",
   "language": "python",
   "name": "tensorflow"
  },
  "language_info": {
   "codemirror_mode": {
    "name": "ipython",
    "version": 3
   },
   "file_extension": ".py",
   "mimetype": "text/x-python",
   "name": "python",
   "nbconvert_exporter": "python",
   "pygments_lexer": "ipython3",
   "version": "3.7.7"
  }
 },
 "nbformat": 4,
 "nbformat_minor": 4
}
